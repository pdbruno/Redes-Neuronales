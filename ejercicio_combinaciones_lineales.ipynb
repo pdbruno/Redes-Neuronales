{
 "cells": [
  {
   "cell_type": "markdown",
   "metadata": {},
   "source": [
    "Dadas 2 variables aleatorias de distribución uniforme $u_1, u_2 \\in U(−1, 1)$ y las\n",
    "siguientes matrices:\n",
    "(coso)\n",
    "\n",
    "Generar tres conjuntos de datos $X_1, X_2 y X_3$ dados por $X_i = [u_1, u_2]^T · M_i$\n",
    "para entrenar varias redes hebbianas de 3 unidades de entrada y 2 de salida con\n",
    "las reglas de Oja y Sanger.\n",
    "1. Comparar las matrices de pesos con las matrices $M_i$ utilizadas para generar\n",
    "los datos de entrada.\n",
    "2. Comparar los valores pertenecientes a $X_i$ con los valores $Y$ devueltos por\n",
    "la red.\n",
    "3. Comparar los valores pertenecientes a $X_i$ con los resultantes de hacer $Y · W_i^T$\n",
    "\n",
    "4. ¿Qué va a suceder si se utilizan los tres conjuntos de datos para entrenar\n",
    "la misma red?\n",
    "\n"
   ]
  },
  {
   "cell_type": "code",
   "execution_count": 1,
   "metadata": {},
   "outputs": [],
   "source": [
    "import numpy as np"
   ]
  },
  {
   "cell_type": "code",
   "execution_count": 2,
   "metadata": {},
   "outputs": [],
   "source": [
    "M1 = np.array([[4, 0, 0.5], [0, 2, 0.5]])\n",
    "M2 = np.array([[1, 0.5, 0.75], [0.5, 1, 0.75]])\n",
    "M3 = np.array([[1, 1, 1], [0.5, 0.5, 0.5]])"
   ]
  },
  {
   "cell_type": "code",
   "execution_count": 4,
   "metadata": {},
   "outputs": [
    {
     "name": "stdout",
     "output_type": "stream",
     "text": [
      "[[ 3.35400709 -1.52985278  0.03678769]]\n"
     ]
    }
   ],
   "source": [
    "X1 = np.dot(np.random.uniform(-1, 1, (2, 1)).T, M1)\n",
    "X2 = np.dot(np.random.uniform(-1, 1, (2, 1)).T, M2)\n",
    "X3 = np.dot(np.random.uniform(-1, 1, (2, 1)).T, M3)\n",
    "# esta mal el enunciado???\n",
    "print(X1)"
   ]
  }
 ],
 "metadata": {
  "kernelspec": {
   "display_name": "Python 3.9.7 64-bit",
   "language": "python",
   "name": "python3"
  },
  "language_info": {
   "codemirror_mode": {
    "name": "ipython",
    "version": 3
   },
   "file_extension": ".py",
   "mimetype": "text/x-python",
   "name": "python",
   "nbconvert_exporter": "python",
   "pygments_lexer": "ipython3",
   "version": "3.9.7"
  },
  "orig_nbformat": 4,
  "vscode": {
   "interpreter": {
    "hash": "81794d4967e6c3204c66dcd87b604927b115b27c00565d3d43f05ba2f3a2cb0d"
   }
  }
 },
 "nbformat": 4,
 "nbformat_minor": 2
}
