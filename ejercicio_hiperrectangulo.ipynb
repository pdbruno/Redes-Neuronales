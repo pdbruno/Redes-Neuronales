{
 "cells": [
  {
   "cell_type": "markdown",
   "metadata": {},
   "source": [
    "Dado un vector A =< a1, a2, . . . a6 > en donde ∀i : ai ∈ N y ∀i, j : i 6=\n",
    "j =⇒ ai 6= aj . Se define un conjunto de datos en donde cada caso X =<\n",
    "x1, x2, . . . x6 > cumple con $x_i \\in U(−a_i, a_i)$. Es decir, cada caso pertenece a un\n",
    "hiper-rectángulo con todos sus lados de diferente tamaño según una distribución\n",
    "aleatoria uniforme en un intervalo dado por A.\n",
    "Se pide resolver los siguientes puntos utilizando primero la regla de Oja y\n",
    "luego la de Sanger, de forma que sea posible comparar los resultados y extraer\n",
    "conclusiones.\n",
    "1. Entrene una red de 6 entradas y 4 salidas presentando como entrada puntos\n",
    "de X. Realice varias corridas con distintos pesos iniciales.\n",
    "2. Analice los vectores de pesos obtenidos. Verifique las propiedades vistas\n",
    "en las clases teóricas.\n",
    "3. Teniendo en cuenta que la varianza de las proyecciones sobre los ejes cartesianos es $a^2_i / 3$\n",
    "en cada caso y que la matriz de covarianzas es diagonal\n",
    "(verifíquelo), ¿cuáles son las cuatro primeras componentes principales?\n",
    "4. Calcule las salidas de la red para los puntos utilizados para el entrenamiento. Para cada salida, calcule la media y la varianza. Analice y justifique\n",
    "los resultados obtenidos.\n",
    "5. ¿Qué ocurre si a_i = a_j para algún par i, j?\n"
   ]
  },
  {
   "cell_type": "code",
   "execution_count": 1,
   "metadata": {},
   "outputs": [],
   "source": [
    "import numpy as np\n",
    "from ahns import AprendizajeHebbianoNoSupervisado, Caca"
   ]
  },
  {
   "cell_type": "code",
   "execution_count": 2,
   "metadata": {},
   "outputs": [],
   "source": [
    "A = np.random.uniform(-100, 100, (1, 6))[0]"
   ]
  },
  {
   "cell_type": "code",
   "execution_count": 3,
   "metadata": {},
   "outputs": [],
   "source": [
    "X = np.random.uniform(-A, A, (500, 6))"
   ]
  },
  {
   "cell_type": "code",
   "execution_count": 4,
   "metadata": {},
   "outputs": [],
   "source": [
    "X_norm = (X-X.mean(0))/X.std(0)"
   ]
  },
  {
   "cell_type": "code",
   "execution_count": 5,
   "metadata": {},
   "outputs": [
    {
     "name": "stdout",
     "output_type": "stream",
     "text": [
      "[[ 0.52682138  0.22317068 -0.41329109  0.17666802]\n",
      " [ 0.40588183 -0.00610857  0.44100032 -0.77387366]\n",
      " [-0.47973353  0.53210323 -0.12342078 -0.17555275]\n",
      " [ 0.26925384 -0.40595355 -0.5983821  -0.18846093]\n",
      " [-0.19706976 -0.66218346  0.28749164  0.23216592]\n",
      " [-0.46599181 -0.25442575 -0.42380851 -0.5007017 ]]\n"
     ]
    }
   ],
   "source": [
    "modelo = AprendizajeHebbianoNoSupervisado(6, 4, 'sanger', 0.0005)\n",
    "modelo.fit(X_norm)\n",
    "print(modelo.w)"
   ]
  },
  {
   "cell_type": "markdown",
   "metadata": {},
   "source": [
    "## Punto 3"
   ]
  },
  {
   "cell_type": "code",
   "execution_count": 20,
   "metadata": {},
   "outputs": [
    {
     "name": "stdout",
     "output_type": "stream",
     "text": [
      "[[ 1.48355709e+03  3.08793240e+00 -1.39047276e+00  1.09871218e+02\n",
      "  -9.14290201e+01 -3.31524034e+01]\n",
      " [ 3.08793240e+00  3.49321598e+01 -3.23155912e-01 -2.59347947e+00\n",
      "  -1.92454770e+00 -5.68162291e+00]\n",
      " [-1.39047276e+00 -3.23155912e-01  1.08086600e+00 -3.48033273e+00\n",
      "  -2.03750531e+00  9.04497016e-01]\n",
      " [ 1.09871218e+02 -2.59347947e+00 -3.48033273e+00  2.66451291e+03\n",
      "   6.89214302e+00  3.65884796e+01]\n",
      " [-9.14290201e+01 -1.92454770e+00 -2.03750531e+00  6.89214302e+00\n",
      "   1.00709785e+03  1.85114204e+01]\n",
      " [-3.31524034e+01 -5.68162291e+00  9.04497016e-01  3.65884796e+01\n",
      "   1.85114204e+01  3.31250084e+02]]\n",
      "-3.3631790848448513\n"
     ]
    }
   ],
   "source": [
    "matriz = X\n",
    "\n",
    "print(np.cov(matriz.T))\n",
    "print((np.diag(np.cov(matriz.T)) - A * A / 3).mean())"
   ]
  },
  {
   "cell_type": "code",
   "execution_count": null,
   "metadata": {},
   "outputs": [],
   "source": [
    "no me salio la verdad"
   ]
  },
  {
   "cell_type": "markdown",
   "metadata": {},
   "source": [
    "## punto 4"
   ]
  },
  {
   "cell_type": "code",
   "execution_count": 14,
   "metadata": {},
   "outputs": [
    {
     "name": "stdout",
     "output_type": "stream",
     "text": [
      "[ 0.39245259 -0.30562573  0.49731383  1.29854635]\n",
      "[28.02262644 31.70210534 37.83873251 16.92563496]\n"
     ]
    }
   ],
   "source": [
    "activaciones = np.dot(X, modelo.w)\n",
    "print(activaciones.mean(0))\n",
    "print(activaciones.std(0))"
   ]
  }
 ],
 "metadata": {
  "kernelspec": {
   "display_name": "Python 3.8.3 64-bit",
   "language": "python",
   "name": "python3"
  },
  "language_info": {
   "codemirror_mode": {
    "name": "ipython",
    "version": 3
   },
   "file_extension": ".py",
   "mimetype": "text/x-python",
   "name": "python",
   "nbconvert_exporter": "python",
   "pygments_lexer": "ipython3",
   "version": "3.8.3"
  },
  "orig_nbformat": 4,
  "vscode": {
   "interpreter": {
    "hash": "9650cb4e16cdd4a8e8e2d128bf38d875813998db22a3c986335f89e0cb4d7bb2"
   }
  }
 },
 "nbformat": 4,
 "nbformat_minor": 2
}
