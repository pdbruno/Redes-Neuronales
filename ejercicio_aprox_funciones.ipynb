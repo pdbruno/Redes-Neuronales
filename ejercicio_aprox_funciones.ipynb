{
 "cells": [
  {
   "cell_type": "markdown",
   "metadata": {},
   "source": [
    "# Aproximación de funciones:\n",
    "Implementar un perceptrón multicapa para aproximar la función f(x) = 0.5.sin(a.cos(x)).cos(2x) + 0.25.sin(x) en el intervalo x ∈ [0; 2π]. Generar conjuntos\n",
    "de datos de distintos tamaños tomando valores a intervalos regulares o con una\n",
    "distribución aleatoria uniforme.\n",
    "Entrenar la red y analizar los resultados teniendo en cuenta las siguientes\n",
    "variantes.\n",
    "1. Para valores de a = 4, a = 8 y a = 16.\n",
    "2. Con distintas cantidades de datos y de unidades ocultas.\n",
    "3. Con entrenamiento incremental y por lotes.\n",
    "4. Con y sin validación\n",
    "\n",
    "Testear la capacidad de generalización comparando la función conocida junto a\n",
    "la obtenida por la red:\n",
    "\n",
    "1. Entrenando con una pequeña perturbación de error en la entrada y/o la\n",
    "salida.\n",
    "2. Considerando casos de interpolación y extrapolación\n"
   ]
  },
  {
   "cell_type": "code",
   "execution_count": 2,
   "metadata": {},
   "outputs": [],
   "source": [
    "import numpy as np\n",
    "from testing_utils import FuncionSigmoidea\n",
    "from matplotlib import pyplot as mpl\n",
    "from perceptron_multicapa import PerceptronMulticapa"
   ]
  },
  {
   "cell_type": "code",
   "execution_count": 9,
   "metadata": {},
   "outputs": [],
   "source": [
    "P = 100\n",
    "a = 4\n",
    "x = np.linspace( 0, 2*np.pi, P)\n",
    "z = 0.5 * np.sin(a*np.cos(x)) * np.cos(2*x)"
   ]
  },
  {
   "cell_type": "code",
   "execution_count": 7,
   "metadata": {},
   "outputs": [],
   "source": [
    "M = 1\n",
    "func_sigmoidea = FuncionSigmoidea()\n",
    "lin = lambda x: x\n",
    "const = lambda x: 1\n",
    "sig = func_sigmoidea.getG('bipolar')\n",
    "sig_der = func_sigmoidea.getdGdx('bipolar')"
   ]
  },
  {
   "cell_type": "code",
   "execution_count": 13,
   "metadata": {},
   "outputs": [
    {
     "name": "stdout",
     "output_type": "stream",
     "text": [
      "[5.07732146 0.76159822 0.19039955 2.85599332 1.77706251 3.68105806\n",
      " 5.01385494 4.25225672 3.4906585  3.55412502 2.03092858 2.28479466\n",
      " 0.95199777 1.90399555 3.23679243 5.33118753 5.77545316 4.56958931\n",
      " 5.14078798 0.12693304 0.63466518 2.60212725 2.0943951  0.88853126\n",
      " 0.31733259 3.87145761 4.75998887 1.96746207 4.44265628 5.64852012\n",
      " 5.9023862  6.02931923 1.01546429 2.66559377 2.98292636 1.20586385\n",
      " 3.36372547 5.39465405 4.69652235 1.45972992 4.31572324 3.61759154\n",
      " 0.25386607 1.07893081 0.6981317  4.88692191 2.7925268  3.8079911\n",
      " 0.         2.41172769 4.63305583 1.3962634  3.30025895 2.47519421\n",
      " 4.82345539 5.2042545  4.37918976 4.06185717 4.1887902  3.17332591\n",
      " 2.22132814 5.52158709 6.28318531 5.83891968 2.72906028 0.06346652\n",
      " 3.93492413 5.71198664 0.44426563 3.42719199 0.82506474 3.99839065\n",
      " 2.91945984 2.34826118 1.26933037 0.50773215 5.45812057 3.74452458\n",
      " 4.95038842 2.53866073 6.15625227 1.65012947 3.10985939 4.12532369\n",
      " 1.71359599 1.33279688 1.58666296 5.58505361 2.15786162 4.5061228\n",
      " 1.84052903 0.57119866 5.26772102 1.52319644 6.09278575]\n",
      "[-3.68815370e-01  5.80887225e-03 -3.28465172e-01  2.69808583e-01\n",
      "  3.34662678e-01  6.76006382e-02 -3.81981983e-01  2.96435397e-01\n",
      "  2.21668728e-01  1.69404719e-01  2.96435397e-01  3.54893753e-02\n",
      " -1.19719367e-01  3.79560635e-01  3.65689892e-01 -1.19719367e-01\n",
      " -9.13337703e-02  2.58587362e-01 -3.26079629e-01 -3.55904838e-01\n",
      " -1.17884361e-02  6.76006382e-02  2.27324357e-01 -5.94484185e-02\n",
      " -2.46446067e-01 -8.85853293e-03 -9.41620135e-02  3.50624168e-01\n",
      "  3.75463122e-01 -1.17884361e-02 -1.95847169e-01 -2.91437619e-01\n",
      " -1.90655815e-01  1.16604471e-01  3.43459866e-01 -3.68815370e-01\n",
      "  3.11064119e-01 -5.94484185e-02  3.16946661e-02 -2.09215310e-01\n",
      "  3.50624168e-01  1.16604471e-01 -2.91437619e-01 -2.63049042e-01\n",
      "  6.71476482e-03 -3.00735734e-01  2.21668728e-01  3.08811480e-04\n",
      " -3.78401248e-01 -8.85853293e-03  1.53900882e-01 -3.00735734e-01\n",
      "  3.43459866e-01  3.08811480e-04 -2.09215310e-01 -2.63049042e-01\n",
      "  3.79560635e-01  8.77695908e-02  2.27324357e-01  3.76981800e-01\n",
      "  8.77695908e-02  5.80887225e-03 -3.78401248e-01 -1.42816230e-01\n",
      "  1.69404719e-01 -3.72733978e-01  2.61331197e-03 -4.60212019e-02\n",
      " -1.42816230e-01  2.69808583e-01 -1.64303841e-02  3.54893753e-02\n",
      "  3.11064119e-01  2.61331197e-03 -3.81981983e-01 -9.13337703e-02\n",
      " -1.64303841e-02  2.72154495e-02 -3.59687183e-01  2.72154495e-02\n",
      " -3.55904838e-01  1.53900882e-01  3.76981800e-01  1.54377629e-01\n",
      "  2.58587362e-01 -3.59687183e-01  3.16946661e-02  6.71476482e-03\n",
      "  1.54377629e-01  3.34662678e-01  3.75463122e-01 -4.60212019e-02\n",
      " -1.90655815e-01 -9.41620135e-02 -3.28465172e-01]\n",
      "La cantidad de bits de entrada es 1\n",
      "El último error es de nan\n"
     ]
    },
    {
     "name": "stderr",
     "output_type": "stream",
     "text": [
      "C:\\Python39\\lib\\site-packages\\numpy\\core\\_methods.py:179: RuntimeWarning: overflow encountered in reduce\n",
      "  ret = umr_sum(arr, axis, dtype, out, keepdims, where=where)\n",
      "c:\\Users\\Patricio\\Desktop\\Redes Neuronales\\perceptron_multicapa.py:57: RuntimeWarning: invalid value encountered in multiply\n",
      "  D = PerceptronMulticapa.bias_sub(E*dY)\n",
      "c:\\Users\\Patricio\\Desktop\\Redes Neuronales\\perceptron_multicapa.py:90: RuntimeWarning: overflow encountered in square\n",
      "  e += np.mean(np.sum(np.square(Zh-Yh[-1]), axis=1))\n"
     ]
    },
    {
     "data": {
      "image/png": "[encoded data removed]",
      "text/plain": [
       "<Figure size 432x288 with 1 Axes>"
      ]
     },
     "metadata": {
      "needs_background": "light"
     },
     "output_type": "display_data"
    },
    {
     "ename": "AxisError",
     "evalue": "axis 1 is out of bounds for array of dimension 1",
     "output_type": "error",
     "traceback": [
      "\u001b[1;31m---------------------------------------------------------------------------\u001b[0m",
      "\u001b[1;31mAxisError\u001b[0m                                 Traceback (most recent call last)",
      "\u001b[1;32m~\\AppData\\Local\\Temp/ipykernel_6464/1335016102.py\u001b[0m in \u001b[0;36m<module>\u001b[1;34m\u001b[0m\n\u001b[0;32m     16\u001b[0m \u001b[0mmpl\u001b[0m\u001b[1;33m.\u001b[0m\u001b[0mshow\u001b[0m\u001b[1;33m(\u001b[0m\u001b[1;33m)\u001b[0m\u001b[1;33m\u001b[0m\u001b[1;33m\u001b[0m\u001b[0m\n\u001b[0;32m     17\u001b[0m \u001b[1;33m\u001b[0m\u001b[0m\n\u001b[1;32m---> 18\u001b[1;33m \u001b[0mY\u001b[0m \u001b[1;33m=\u001b[0m \u001b[0mpmc\u001b[0m\u001b[1;33m.\u001b[0m\u001b[0mactivacion\u001b[0m\u001b[1;33m(\u001b[0m\u001b[0mx\u001b[0m\u001b[1;33m[\u001b[0m\u001b[0mtst\u001b[0m\u001b[1;33m]\u001b[0m\u001b[1;33m)\u001b[0m\u001b[1;33m\u001b[0m\u001b[1;33m\u001b[0m\u001b[0m\n\u001b[0m\u001b[0;32m     19\u001b[0m \u001b[0me\u001b[0m \u001b[1;33m=\u001b[0m \u001b[0mnp\u001b[0m\u001b[1;33m.\u001b[0m\u001b[0mmean\u001b[0m\u001b[1;33m(\u001b[0m\u001b[0mnp\u001b[0m\u001b[1;33m.\u001b[0m\u001b[0msum\u001b[0m\u001b[1;33m(\u001b[0m\u001b[0mnp\u001b[0m\u001b[1;33m.\u001b[0m\u001b[0msquare\u001b[0m\u001b[1;33m(\u001b[0m\u001b[0mz\u001b[0m\u001b[1;33m[\u001b[0m\u001b[0mtst\u001b[0m\u001b[1;33m]\u001b[0m\u001b[1;33m-\u001b[0m\u001b[0mY\u001b[0m\u001b[1;33m[\u001b[0m\u001b[1;33m-\u001b[0m\u001b[1;36m1\u001b[0m\u001b[1;33m]\u001b[0m\u001b[1;33m)\u001b[0m\u001b[1;33m,\u001b[0m \u001b[0maxis\u001b[0m\u001b[1;33m=\u001b[0m\u001b[1;36m1\u001b[0m\u001b[1;33m)\u001b[0m\u001b[1;33m)\u001b[0m\u001b[1;33m\u001b[0m\u001b[1;33m\u001b[0m\u001b[0m\n\u001b[0;32m     20\u001b[0m \u001b[0mprint\u001b[0m\u001b[1;33m(\u001b[0m\u001b[0me\u001b[0m\u001b[1;33m)\u001b[0m\u001b[1;33m\u001b[0m\u001b[1;33m\u001b[0m\u001b[0m\n",
      "\u001b[1;32mc:\\Users\\Patricio\\Desktop\\Redes Neuronales\\perceptron_multicapa.py\u001b[0m in \u001b[0;36mactivacion\u001b[1;34m(self, Xh)\u001b[0m\n\u001b[0;32m     36\u001b[0m \u001b[1;33m\u001b[0m\u001b[0m\n\u001b[0;32m     37\u001b[0m         \u001b[1;32mfor\u001b[0m \u001b[0mi\u001b[0m \u001b[1;32min\u001b[0m \u001b[0mrange\u001b[0m\u001b[1;33m(\u001b[0m\u001b[1;36m1\u001b[0m\u001b[1;33m,\u001b[0m \u001b[0mself\u001b[0m\u001b[1;33m.\u001b[0m\u001b[0mL\u001b[0m\u001b[1;33m)\u001b[0m\u001b[1;33m:\u001b[0m\u001b[1;33m\u001b[0m\u001b[1;33m\u001b[0m\u001b[0m\n\u001b[1;32m---> 38\u001b[1;33m             \u001b[0mY\u001b[0m\u001b[1;33m[\u001b[0m\u001b[0mi\u001b[0m\u001b[1;33m-\u001b[0m\u001b[1;36m1\u001b[0m\u001b[1;33m]\u001b[0m\u001b[1;33m[\u001b[0m\u001b[1;33m:\u001b[0m\u001b[1;33m]\u001b[0m \u001b[1;33m=\u001b[0m \u001b[0mPerceptronMulticapa\u001b[0m\u001b[1;33m.\u001b[0m\u001b[0mbias_add\u001b[0m\u001b[1;33m(\u001b[0m\u001b[0mY_moño\u001b[0m\u001b[1;33m)\u001b[0m\u001b[1;33m\u001b[0m\u001b[1;33m\u001b[0m\u001b[0m\n\u001b[0m\u001b[0;32m     39\u001b[0m             \u001b[0mY_moño\u001b[0m \u001b[1;33m=\u001b[0m \u001b[0mself\u001b[0m\u001b[1;33m.\u001b[0m\u001b[0mg\u001b[0m\u001b[1;33m[\u001b[0m\u001b[0mi\u001b[0m\u001b[1;33m]\u001b[0m\u001b[1;33m(\u001b[0m\u001b[0mnp\u001b[0m\u001b[1;33m.\u001b[0m\u001b[0mdot\u001b[0m\u001b[1;33m(\u001b[0m\u001b[0mY\u001b[0m\u001b[1;33m[\u001b[0m\u001b[0mi\u001b[0m\u001b[1;33m-\u001b[0m\u001b[1;36m1\u001b[0m\u001b[1;33m]\u001b[0m\u001b[1;33m,\u001b[0m \u001b[0mself\u001b[0m\u001b[1;33m.\u001b[0m\u001b[0mW\u001b[0m\u001b[1;33m[\u001b[0m\u001b[0mi\u001b[0m\u001b[1;33m]\u001b[0m\u001b[1;33m)\u001b[0m\u001b[1;33m)\u001b[0m\u001b[1;33m\u001b[0m\u001b[1;33m\u001b[0m\u001b[0m\n\u001b[0;32m     40\u001b[0m \u001b[1;33m\u001b[0m\u001b[0m\n",
      "\u001b[1;32mc:\\Users\\Patricio\\Desktop\\Redes Neuronales\\perceptron_multicapa.py\u001b[0m in \u001b[0;36mbias_add\u001b[1;34m(V)\u001b[0m\n\u001b[0;32m     24\u001b[0m     \u001b[1;32mdef\u001b[0m \u001b[0mbias_add\u001b[0m\u001b[1;33m(\u001b[0m\u001b[0mV\u001b[0m\u001b[1;33m)\u001b[0m\u001b[1;33m:\u001b[0m\u001b[1;33m\u001b[0m\u001b[1;33m\u001b[0m\u001b[0m\n\u001b[0;32m     25\u001b[0m         \u001b[0mbias\u001b[0m \u001b[1;33m=\u001b[0m \u001b[1;33m-\u001b[0m\u001b[0mnp\u001b[0m\u001b[1;33m.\u001b[0m\u001b[0mones\u001b[0m\u001b[1;33m(\u001b[0m\u001b[1;33m(\u001b[0m\u001b[0mlen\u001b[0m\u001b[1;33m(\u001b[0m\u001b[0mV\u001b[0m\u001b[1;33m)\u001b[0m\u001b[1;33m,\u001b[0m \u001b[1;36m1\u001b[0m\u001b[1;33m)\u001b[0m\u001b[1;33m)\u001b[0m\u001b[1;33m\u001b[0m\u001b[1;33m\u001b[0m\u001b[0m\n\u001b[1;32m---> 26\u001b[1;33m         \u001b[1;32mreturn\u001b[0m \u001b[0mnp\u001b[0m\u001b[1;33m.\u001b[0m\u001b[0mconcatenate\u001b[0m\u001b[1;33m(\u001b[0m\u001b[1;33m(\u001b[0m\u001b[0mV\u001b[0m\u001b[1;33m,\u001b[0m \u001b[0mbias\u001b[0m\u001b[1;33m)\u001b[0m\u001b[1;33m,\u001b[0m \u001b[0maxis\u001b[0m\u001b[1;33m=\u001b[0m\u001b[1;36m1\u001b[0m\u001b[1;33m)\u001b[0m\u001b[1;33m\u001b[0m\u001b[1;33m\u001b[0m\u001b[0m\n\u001b[0m\u001b[0;32m     27\u001b[0m \u001b[1;33m\u001b[0m\u001b[0m\n\u001b[0;32m     28\u001b[0m     \u001b[1;32mdef\u001b[0m \u001b[0mbias_sub\u001b[0m\u001b[1;33m(\u001b[0m\u001b[0mV\u001b[0m\u001b[1;33m)\u001b[0m\u001b[1;33m:\u001b[0m\u001b[1;33m\u001b[0m\u001b[1;33m\u001b[0m\u001b[0m\n",
      "\u001b[1;32m<__array_function__ internals>\u001b[0m in \u001b[0;36mconcatenate\u001b[1;34m(*args, **kwargs)\u001b[0m\n",
      "\u001b[1;31mAxisError\u001b[0m: axis 1 is out of bounds for array of dimension 1"
     ]
    }
   ],
   "source": [
    "\n",
    "N = 1\n",
    "\n",
    "indexes = np.random.permutation(x.shape[0])\n",
    "percentaje = int(0.05 * P)\n",
    "tst = indexes[-percentaje:]\n",
    "trn = indexes[:-percentaje]\n",
    "\n",
    "print(x[trn])\n",
    "print(z[trn])\n",
    "\n",
    "pmc = PerceptronMulticapa([N, 8, 5, 1], [sig, sig, lin], [sig_der,sig_der, const], 0.1, 10)\n",
    "E = pmc.fit(x[trn], z[trn])\n",
    "print(\n",
    "    f'La cantidad de bits de entrada es {N}\\nEl último error es de {E[-1]}')\n",
    "mpl.plot(E, 'r')\n",
    "mpl.show()\n",
    "\n",
    "Y = pmc.activacion(x[tst])\n",
    "e = np.mean(np.sum(np.square(z[tst]-Y[-1]), axis=1))\n",
    "print(e)\n",
    "\n"
   ]
  }
 ],
 "metadata": {
  "interpreter": {
   "hash": "63fd5069d213b44bf678585dea6b12cceca9941eaf7f819626cde1f2670de90d"
  },
  "kernelspec": {
   "display_name": "Python 3.9.7 64-bit",
   "language": "python",
   "name": "python3"
  },
  "language_info": {
   "codemirror_mode": {
    "name": "ipython",
    "version": 3
   },
   "file_extension": ".py",
   "mimetype": "text/x-python",
   "name": "python",
   "nbconvert_exporter": "python",
   "pygments_lexer": "ipython3",
   "version": "3.9.7"
  },
  "orig_nbformat": 4
 },
 "nbformat": 4,
 "nbformat_minor": 2
}
