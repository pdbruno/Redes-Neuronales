{
 "cells": [
  {
   "cell_type": "markdown",
   "metadata": {},
   "source": [
    "# Aproximación de funciones:\n",
    "Implementar un perceptrón multicapa para aproximar la función f(x) = 0.5.sin(a.cos(x)).cos(2x) + 0.25.sin(x) en el intervalo x ∈ [0; 2π]. Generar conjuntos\n",
    "de datos de distintos tamaños tomando valores a intervalos regulares o con una\n",
    "distribución aleatoria uniforme.\n",
    "Entrenar la red y analizar los resultados teniendo en cuenta las siguientes\n",
    "variantes.\n",
    "1. Para valores de a = 4, a = 8 y a = 16.\n",
    "2. Con distintas cantidades de datos y de unidades ocultas.\n",
    "3. Con entrenamiento incremental y por lotes.\n",
    "4. Con y sin validación\n",
    "\n",
    "Testear la capacidad de generalización comparando la función conocida junto a\n",
    "la obtenida por la red:\n",
    "\n",
    "1. Entrenando con una pequeña perturbación de error en la entrada y/o la\n",
    "salida.\n",
    "2. Considerando casos de interpolación y extrapolación\n"
   ]
  },
  {
   "cell_type": "code",
   "execution_count": 1,
   "metadata": {},
   "outputs": [],
   "source": [
    "import numpy as np\n",
    "from testing_utils import FuncionSigmoidea\n",
    "from matplotlib import pyplot as mpl\n",
    "from perceptron_multicapa import PerceptronMulticapa"
   ]
  },
  {
   "cell_type": "code",
   "execution_count": 2,
   "metadata": {},
   "outputs": [],
   "source": [
    "f = lambda x, a: 0.5 * np.sin(a*np.cos(x)) * np.cos(2*x)"
   ]
  },
  {
   "cell_type": "code",
   "execution_count": 3,
   "metadata": {},
   "outputs": [],
   "source": [
    "func_sigmoidea = FuncionSigmoidea()\n",
    "lin = lambda x: x\n",
    "const = lambda x: 1\n",
    "sig = func_sigmoidea.getG('bipolar')\n",
    "sig_der = func_sigmoidea.getdGdx('bipolar')"
   ]
  },
  {
   "cell_type": "code",
   "execution_count": 24,
   "metadata": {},
   "outputs": [],
   "source": [
    "# porque f: R -> R\n",
    "N = 1\n",
    "M = 1\n",
    "P = 300"
   ]
  },
  {
   "cell_type": "code",
   "execution_count": 25,
   "metadata": {},
   "outputs": [],
   "source": [
    "x = np.random.uniform( 0, 2*np.pi, P)\n",
    "# normalizo los datos\n",
    "x = (x-x.mean(0))/np.square(x.std(0))\n",
    "z = f(x, 16)"
   ]
  },
  {
   "cell_type": "code",
   "execution_count": 76,
   "metadata": {},
   "outputs": [
    {
     "name": "stdout",
     "output_type": "stream",
     "text": [
      "El último error es de 0.032940888345687036\n"
     ]
    },
    {
     "data": {
      "image/png": "[encoded data removed]",
      "text/plain": [
       "<Figure size 432x288 with 1 Axes>"
      ]
     },
     "metadata": {
      "needs_background": "light"
     },
     "output_type": "display_data"
    }
   ],
   "source": [
    "indexes = np.random.permutation(x.shape[0])\n",
    "percentaje = int(0.05 * P)\n",
    "tst = indexes[-percentaje:]\n",
    "trn = indexes[:-percentaje]\n",
    "\n",
    "pmc = PerceptronMulticapa([N, 15, 15, M], [sig, sig, sig, lin], [\n",
    "                          sig_der, sig_der, sig_der, const], 0.1, 10)\n",
    "E = pmc.fit(x[trn], z[trn])\n",
    "print(f'El último error es de {E[-1]}')\n",
    "mpl.plot(E, 'r')\n",
    "mpl.show()\n"
   ]
  },
  {
   "cell_type": "code",
   "execution_count": 77,
   "metadata": {},
   "outputs": [
    {
     "name": "stdout",
     "output_type": "stream",
     "text": [
      "0.0011613608010624026\n"
     ]
    }
   ],
   "source": [
    "YPred = pmc.activacion(x[tst].reshape((-1, 1)))[-1][:, 0]\n",
    "e = np.mean(np.square(z[tst] - YPred))\n",
    "print(e)"
   ]
  }
 ],
 "metadata": {
  "interpreter": {
   "hash": "63fd5069d213b44bf678585dea6b12cceca9941eaf7f819626cde1f2670de90d"
  },
  "kernelspec": {
   "display_name": "Python 3.9.7 64-bit",
   "language": "python",
   "name": "python3"
  },
  "language_info": {
   "codemirror_mode": {
    "name": "ipython",
    "version": 3
   },
   "file_extension": ".py",
   "mimetype": "text/x-python",
   "name": "python",
   "nbconvert_exporter": "python",
   "pygments_lexer": "ipython3",
   "version": "3.9.7"
  },
  "orig_nbformat": 4
 },
 "nbformat": 4,
 "nbformat_minor": 2
}
