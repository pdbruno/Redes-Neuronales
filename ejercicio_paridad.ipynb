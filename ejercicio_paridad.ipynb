{
 "cells": [
  {
   "cell_type": "markdown",
   "metadata": {},
   "source": [
    "# Ejercicio de Paridad\n",
    "El problema de XOR es equivalente al problema de paridad para dos variables, es decir, el resultado es 1 solo cuando la cantidad de unos en la entrada es\n",
    "impar. Implementar un perceptrón multicapa que pueda aprender el problema\n",
    "de paridad para distintas cantidades de variables de entrada.\n",
    "Entrenarlo para 2, 3, 4, 5 y 6 variables de entrada probando las siguientes\n",
    "estrategias.\n",
    "\n",
    "1. Con unidades binarias y bipolares.\n",
    "2. Variando la cantidad de capas ocultas y la cantidad de unidades por capa.\n",
    "3. Con distintos valores para el coeficiente de aprendizaje."
   ]
  },
  {
   "cell_type": "code",
   "execution_count": 1,
   "metadata": {},
   "outputs": [],
   "source": [
    "import numpy as np\n",
    "from testing_utils import posibilidadesFuncionActivacion, TipoDatoBipolar, FuncionSigmoidea\n",
    "from matplotlib import pyplot as mpl\n",
    "from perceptron_multicapa import PerceptronMulticapa\n",
    "import itertools\n"
   ]
  },
  {
   "cell_type": "code",
   "execution_count": 27,
   "metadata": {},
   "outputs": [],
   "source": [
    "M = 1\n",
    "func_sigmoidea = FuncionSigmoidea()\n",
    "lin = lambda x: x\n",
    "const = lambda x: 1\n",
    "tipoDato = TipoDatoBipolar()\n",
    "sig = func_sigmoidea.getG(tipoDato=tipoDato.getTipoDato())\n",
    "sig_der = func_sigmoidea.getdGdx(tipoDato=tipoDato.getTipoDato())"
   ]
  },
  {
   "cell_type": "code",
   "execution_count": 41,
   "metadata": {},
   "outputs": [
    {
     "name": "stdout",
     "output_type": "stream",
     "text": [
      "Tipo de Dato Bipolar\n",
      "La cantidad de bits de entrada es 6\n",
      "El último error es de 0.00925416260998007\n"
     ]
    },
    {
     "data": {
      "image/png": "[encoded data removed]",
      "text/plain": [
       "<Figure size 432x288 with 1 Axes>"
      ]
     },
     "metadata": {
      "needs_background": "light"
     },
     "output_type": "display_data"
    },
    {
     "name": "stdout",
     "output_type": "stream",
     "text": [
      "3.054580375777069\n"
     ]
    }
   ],
   "source": [
    "\n",
    "N = 6\n",
    "x = np.array([list(tup) for tup in itertools.product([0, 1], repeat=N)])\n",
    "z = np.sum(x, axis=1) % 2\n",
    "\n",
    "indexes = np.random.permutation(x.shape[0])\n",
    "\n",
    "tst = indexes[-3:]\n",
    "trn = indexes[:-3]\n",
    "\n",
    "\n",
    "pmc = PerceptronMulticapa([N, 8, 5, 1], [sig, sig, lin], [sig_der,sig_der, const])\n",
    "E = pmc.fit(tipoDato.getX(x[trn]), tipoDato.getZ(z[trn]))\n",
    "print(\n",
    "    f'{tipoDato.getName()}\\nLa cantidad de bits de entrada es {N}\\nEl último error es de {E[-1]}')\n",
    "mpl.plot(E, 'r')\n",
    "mpl.show()\n",
    "\n",
    "Y = pmc.activacion(x[tst])\n",
    "e = np.mean(np.sum(np.square(z[tst]-Y[-1]), axis=1))\n",
    "print(e)\n",
    "\n"
   ]
  },
  {
   "cell_type": "code",
   "execution_count": null,
   "metadata": {},
   "outputs": [
    {
     "name": "stdout",
     "output_type": "stream",
     "text": [
      "Tipo de Dato Bipolar\n",
      "La cantidad de bits de entrada es 6\n",
      "El último error es de 0.00925416260998007\n"
     ]
    },
    {
     "data": {
      "image/png": "[encoded data removed]",
      "text/plain": [
       "<Figure size 432x288 with 1 Axes>"
      ]
     },
     "metadata": {},
     "output_type": "display_data"
    },
    {
     "name": "stdout",
     "output_type": "stream",
     "text": [
      "3.054580375777069\n"
     ]
    }
   ],
   "source": [
    "\n",
    "N = 6\n",
    "x = np.array([list(tup) for tup in itertools.product([0, 1], repeat=N)])\n",
    "z = np.sum(x, axis=1) % 2\n",
    "\n",
    "indexes = np.random.permutation(x.shape[0])\n",
    "\n",
    "tst = indexes[-3:]\n",
    "trn = indexes[:-3]\n",
    "\n",
    "\n",
    "pmc = PerceptronMulticapa([N, 8, 5, 1], [sig, sig, lin], [sig_der,sig_der, const])\n",
    "E = pmc.fit(tipoDato.getX(x[trn]), tipoDato.getZ(z[trn]))\n",
    "print(\n",
    "    f'{tipoDato.getName()}\\nLa cantidad de bits de entrada es {N}\\nEl último error es de {E[-1]}')\n",
    "mpl.plot(E, 'r')\n",
    "mpl.show()\n",
    "\n",
    "Y = pmc.activacion(x[tst])\n",
    "e = np.mean(np.sum(np.square(z[tst]-Y[-1]), axis=1))\n",
    "print(e)\n",
    "\n"
   ]
  }
 ],
 "metadata": {
  "interpreter": {
   "hash": "63fd5069d213b44bf678585dea6b12cceca9941eaf7f819626cde1f2670de90d"
  },
  "kernelspec": {
   "display_name": "Python 3.9.7 64-bit",
   "language": "python",
   "name": "python3"
  },
  "language_info": {
   "codemirror_mode": {
    "name": "ipython",
    "version": 3
   },
   "file_extension": ".py",
   "mimetype": "text/x-python",
   "name": "python",
   "nbconvert_exporter": "python",
   "pygments_lexer": "ipython3",
   "version": "3.9.7"
  },
  "orig_nbformat": 4
 },
 "nbformat": 4,
 "nbformat_minor": 2
}
